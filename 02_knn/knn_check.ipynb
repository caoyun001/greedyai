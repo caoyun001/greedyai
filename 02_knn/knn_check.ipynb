{
 "cells": [
  {
   "cell_type": "code",
   "execution_count": 1,
   "metadata": {},
   "outputs": [
    {
     "name": "stdout",
     "output_type": "stream",
     "text": [
      "(150, 4) (150,)\n"
     ]
    }
   ],
   "source": [
    "# 2.3节 交叉验证\n",
    "import numpy as np \n",
    "from sklearn import datasets                        # 导入数据集\n",
    "from sklearn.neighbors import KNeighborsClassifier  # KNN分类算法\n",
    "from sklearn.model_selection import KFold           # 用于交叉验证\n",
    "\n",
    "# 导入iris数据集\n",
    "iris = datasets.load_iris()\n",
    "X = iris.data\n",
    "y = iris.target\n",
    "print(X.shape, y.shape)"
   ]
  },
  {
   "cell_type": "code",
   "execution_count": 3,
   "metadata": {},
   "outputs": [
    {
     "name": "stdout",
     "output_type": "stream",
     "text": [
      "KFold(n_splits=5, random_state=2001, shuffle=True)\n"
     ]
    }
   ],
   "source": [
    "# 定义8个不同的k值\n",
    "ks = [1, 3, 5, 7, 9, 11, 13, 15]\n",
    "\n",
    "# 5折交叉验证\n",
    "kf = KFold(n_splits=5, random_state=2001, shuffle=True)\n",
    "print(kf)"
   ]
  },
  {
   "cell_type": "code",
   "execution_count": null,
   "metadata": {},
   "outputs": [],
   "source": []
  },
  {
   "cell_type": "code",
   "execution_count": null,
   "metadata": {},
   "outputs": [],
   "source": []
  }
 ],
 "metadata": {
  "kernelspec": {
   "display_name": "Python 3",
   "language": "python",
   "name": "python3"
  },
  "language_info": {
   "codemirror_mode": {
    "name": "ipython",
    "version": 3
   },
   "file_extension": ".py",
   "mimetype": "text/x-python",
   "name": "python",
   "nbconvert_exporter": "python",
   "pygments_lexer": "ipython3",
   "version": "3.6.4"
  }
 },
 "nbformat": 4,
 "nbformat_minor": 2
}
